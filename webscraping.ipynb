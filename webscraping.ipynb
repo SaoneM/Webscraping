{
 "cells": [
  {
   "cell_type": "code",
   "id": "initial_id",
   "metadata": {
    "collapsed": true,
    "ExecuteTime": {
     "end_time": "2024-08-08T12:54:56.425045Z",
     "start_time": "2024-08-08T12:54:55.909121Z"
    }
   },
   "source": [
    "import csv\n",
    "from datetime import datetime\n",
    "import requests\n",
    "from bs4 import BeautifulSoup"
   ],
   "outputs": [],
   "execution_count": 1
  },
  {
   "metadata": {
    "ExecuteTime": {
     "end_time": "2024-08-08T12:55:01.142200Z",
     "start_time": "2024-08-08T12:55:01.130278Z"
    }
   },
   "cell_type": "code",
   "source": [
    "def get_url(position, location):\n",
    "    temp = 'https://www.careerjunction.co.za/jobs/results?keywords={}&location={}'\n",
    "    url = temp.format(position, location)\n",
    "    return url"
   ],
   "id": "efda1797a5d73fc4",
   "outputs": [],
   "execution_count": 2
  },
  {
   "metadata": {
    "ExecuteTime": {
     "end_time": "2024-08-08T12:55:23.014894Z",
     "start_time": "2024-08-08T12:55:20.839137Z"
    }
   },
   "cell_type": "code",
   "source": [
    "url = get_url('data+scientist', '10860')\n",
    "response = requests.get(url)\n",
    "soup = BeautifulSoup(response.text, 'html.parser')\n",
    "cards = soup.find_all('div', 'module job-result')\n",
    "card = cards[0]\n",
    "atag = card.h2.a\n",
    "job_title = atag.text\n",
    "job_title_url = 'https://www.careerjunction.co.za' + atag.get('href')\n",
    "company = card.h3.a.text\n",
    "location = card.find('li', 'location').text.strip()\n",
    "job_summary = card.find('ul', 'job-overview').text.strip()\n",
    "post_date = card.find('li', 'updated-time').text.strip()\n",
    "today = datetime.today().strftime('%Y-%m-%d')"
   ],
   "id": "ee92610b2e371b1a",
   "outputs": [],
   "execution_count": 3
  },
  {
   "metadata": {
    "ExecuteTime": {
     "end_time": "2024-08-08T12:55:34.509928Z",
     "start_time": "2024-08-08T12:55:34.480935Z"
    }
   },
   "cell_type": "code",
   "source": [
    "def get_record(card):\n",
    "    atag = card.h2.a\n",
    "    job_title = atag.text\n",
    "    job_title_url = 'https://www.careerjunction.co.za' + atag.get('href')\n",
    "    company = card.h3.a.text\n",
    "    location = card.find('li', 'location').text.strip()\n",
    "    job_summary = card.find('ul', 'job-overview').text.strip()\n",
    "    post_date = card.find('li', 'updated-time').text.strip()\n",
    "    today = datetime.today().strftime('%Y-%m-%d')\n",
    "    try:\n",
    "        job_salary = card.find('li', 'salary').text.strip()\n",
    "    except AttributeError:\n",
    "        job_salary = 'R Undisclosed'\n",
    "\n",
    "    record = (job_title, company, location, job_salary, post_date, today, job_summary, job_title_url)\n",
    "\n",
    "    return record"
   ],
   "id": "72da5de7c2e8de0f",
   "outputs": [],
   "execution_count": 4
  },
  {
   "metadata": {
    "ExecuteTime": {
     "end_time": "2024-08-08T12:55:44.231313Z",
     "start_time": "2024-08-08T12:55:44.189962Z"
    }
   },
   "cell_type": "code",
   "source": [
    "records = []\n",
    "for card in cards:\n",
    "    record = get_record(card)\n",
    "    records.append(record)"
   ],
   "id": "acc8c54e8d95c88d",
   "outputs": [],
   "execution_count": 5
  },
  {
   "metadata": {
    "ExecuteTime": {
     "end_time": "2024-08-08T12:55:55.970440Z",
     "start_time": "2024-08-08T12:55:54.300519Z"
    }
   },
   "cell_type": "code",
   "source": [
    "def main(position, location):\n",
    "    records = []\n",
    "    url = get_url(position, location)\n",
    "    \n",
    "    response = requests.get(url)\n",
    "    soup = BeautifulSoup(response.text, 'html.parser')\n",
    "    cards = soup.find_all('div', 'module job-result')\n",
    "    \n",
    "    for card in cards:\n",
    "        record = get_record(card)\n",
    "        records.append(record)\n",
    "             \n",
    "    with open('career-junction.csv', 'w', newline='', encoding='utf-8') as f:\n",
    "        writer = csv.writer(f)       \n",
    "        writer.writerow(['JobTitle', 'Company', 'Location', 'Salary', 'PostDate', 'ExtractDate','Summary','JobUrl'])\n",
    "        writer.writerows(records)\n",
    "        \n",
    "main('data+scientist', '10860')\n",
    "\n"
   ],
   "id": "f81179d44ecf4930",
   "outputs": [],
   "execution_count": 6
  },
  {
   "metadata": {
    "ExecuteTime": {
     "end_time": "2024-07-24T10:58:29.628892Z",
     "start_time": "2024-07-24T10:58:29.623236Z"
    }
   },
   "cell_type": "code",
   "source": "",
   "id": "447cfdb1b79a90f1",
   "outputs": [],
   "execution_count": 21
  },
  {
   "metadata": {},
   "cell_type": "code",
   "outputs": [],
   "execution_count": null,
   "source": "",
   "id": "9bbc589474b36879"
  }
 ],
 "metadata": {
  "kernelspec": {
   "display_name": "Python 3",
   "language": "python",
   "name": "python3"
  },
  "language_info": {
   "codemirror_mode": {
    "name": "ipython",
    "version": 2
   },
   "file_extension": ".py",
   "mimetype": "text/x-python",
   "name": "python",
   "nbconvert_exporter": "python",
   "pygments_lexer": "ipython2",
   "version": "2.7.6"
  }
 },
 "nbformat": 4,
 "nbformat_minor": 5
}
