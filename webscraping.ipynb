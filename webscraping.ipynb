{
 "cells": [
  {
   "cell_type": "code",
   "id": "initial_id",
   "metadata": {
    "collapsed": true,
    "ExecuteTime": {
     "end_time": "2024-07-24T10:33:37.704496Z",
     "start_time": "2024-07-24T10:33:36.796678Z"
    }
   },
   "source": [
    "import csv\n",
    "from datetime import datetime\n",
    "import requests\n",
    "from bs4 import BeautifulSoup"
   ],
   "outputs": [],
   "execution_count": 2
  },
  {
   "metadata": {
    "ExecuteTime": {
     "end_time": "2024-07-24T12:42:45.434123Z",
     "start_time": "2024-07-24T12:42:45.425674Z"
    }
   },
   "cell_type": "code",
   "source": [
    "def get_url(position, location):\n",
    "    temp = 'https://www.careerjunction.co.za/jobs/results?keywords={}&location={}'\n",
    "    url = temp.format(position, location)\n",
    "    return url"
   ],
   "id": "efda1797a5d73fc4",
   "outputs": [],
   "execution_count": 4
  },
  {
   "metadata": {
    "ExecuteTime": {
     "end_time": "2024-07-24T12:42:30.384900Z",
     "start_time": "2024-07-24T12:42:30.237155Z"
    }
   },
   "cell_type": "code",
   "source": [
    "url = get_url('data+scientist', '10860')\n",
    "response = requests.get(url)\n",
    "soup = BeautifulSoup(response.text, 'html.parser')\n",
    "cards = soup.find_all('div', 'module job-result')\n",
    "card = cards[0]\n",
    "atag = card.h2.a\n",
    "job_title = atag.text\n",
    "job_title_url = 'https://www.careerjunction.co.za' + atag.get('href')\n",
    "company = card.h3.a.text\n",
    "location = card.find('li', 'location').text.strip()\n",
    "job_summary = card.find('ul', 'job-overview').text.strip()\n",
    "post_date = card.find('li', 'updated-time').text.strip()\n",
    "today = datetime.today().strftime('%Y-%m-%d')"
   ],
   "id": "ee92610b2e371b1a",
   "outputs": [
    {
     "ename": "NameError",
     "evalue": "name 'get_url' is not defined",
     "output_type": "error",
     "traceback": [
      "\u001B[0;31m---------------------------------------------------------------------------\u001B[0m",
      "\u001B[0;31mNameError\u001B[0m                                 Traceback (most recent call last)",
      "Cell \u001B[0;32mIn[2], line 1\u001B[0m\n\u001B[0;32m----> 1\u001B[0m url \u001B[38;5;241m=\u001B[39m get_url(\u001B[38;5;124m'\u001B[39m\u001B[38;5;124mdata+scientist\u001B[39m\u001B[38;5;124m'\u001B[39m, \u001B[38;5;124m'\u001B[39m\u001B[38;5;124m10860\u001B[39m\u001B[38;5;124m'\u001B[39m)\n\u001B[1;32m      2\u001B[0m response \u001B[38;5;241m=\u001B[39m requests\u001B[38;5;241m.\u001B[39mget(url)\n\u001B[1;32m      3\u001B[0m soup \u001B[38;5;241m=\u001B[39m BeautifulSoup(response\u001B[38;5;241m.\u001B[39mtext, \u001B[38;5;124m'\u001B[39m\u001B[38;5;124mhtml.parser\u001B[39m\u001B[38;5;124m'\u001B[39m)\n",
      "\u001B[0;31mNameError\u001B[0m: name 'get_url' is not defined"
     ]
    }
   ],
   "execution_count": 2
  },
  {
   "metadata": {
    "ExecuteTime": {
     "end_time": "2024-07-24T11:06:10.099205Z",
     "start_time": "2024-07-24T11:06:10.083918Z"
    }
   },
   "cell_type": "code",
   "source": [
    "def get_record(card):\n",
    "    atag = card.h2.a\n",
    "    job_title = atag.text\n",
    "    job_title_url = 'https://www.careerjunction.co.za' + atag.get('href')\n",
    "    company = card.h3.a.text\n",
    "    location = card.find('li', 'location').text.strip()\n",
    "    job_summary = card.find('ul', 'job-overview').text.strip()\n",
    "    post_date = card.find('li', 'updated-time').text.strip()\n",
    "    today = datetime.today().strftime('%Y-%m-%d')\n",
    "    try:\n",
    "        job_salary = card.find('li', 'salary').text.strip()\n",
    "    except AttributeError:\n",
    "        job_salary = 'R Undisclosed'\n",
    "\n",
    "    record = (job_title, company, location, job_salary, post_date, today, job_summary, job_title_url)\n",
    "\n",
    "    return record"
   ],
   "id": "72da5de7c2e8de0f",
   "outputs": [],
   "execution_count": 22
  },
  {
   "metadata": {
    "ExecuteTime": {
     "end_time": "2024-07-24T10:34:02.211511Z",
     "start_time": "2024-07-24T10:34:02.163084Z"
    }
   },
   "cell_type": "code",
   "source": [
    "records = []\n",
    "for card in cards:\n",
    "    record = get_record(card)\n",
    "    records.append(record)"
   ],
   "id": "acc8c54e8d95c88d",
   "outputs": [],
   "execution_count": 6
  },
  {
   "metadata": {
    "ExecuteTime": {
     "end_time": "2024-07-24T12:42:50.623991Z",
     "start_time": "2024-07-24T12:42:50.525891Z"
    }
   },
   "cell_type": "code",
   "source": [
    "def main(position, location):\n",
    "    records = []\n",
    "    url = get_url(position, location)\n",
    "    \n",
    "    response = requests.get(url)\n",
    "    soup = BeautifulSoup(response.text, 'html.parser')\n",
    "    cards = soup.find_all('div', 'module job-result')\n",
    "    \n",
    "    for card in cards:\n",
    "        record = get_record(card)\n",
    "        records.append(record)\n",
    "             \n",
    "    with open('career-junction.csv', 'w', newline='', encoding='utf-8') as f:\n",
    "        writer = csv.writer(f)       \n",
    "        writer.writerow(['JobTitle', 'Company', 'Location', 'Salary', 'PostDate', 'ExtractDate','Summary','JobUrl'])\n",
    "        writer.writerows(records)\n",
    "        \n",
    "main('data+scientist', '10860')\n",
    "\n"
   ],
   "id": "f81179d44ecf4930",
   "outputs": [
    {
     "ename": "NameError",
     "evalue": "name 'requests' is not defined",
     "output_type": "error",
     "traceback": [
      "\u001B[0;31m---------------------------------------------------------------------------\u001B[0m",
      "\u001B[0;31mNameError\u001B[0m                                 Traceback (most recent call last)",
      "Cell \u001B[0;32mIn[5], line 18\u001B[0m\n\u001B[1;32m     15\u001B[0m         writer\u001B[38;5;241m.\u001B[39mwriterow([\u001B[38;5;124m'\u001B[39m\u001B[38;5;124mJobTitle\u001B[39m\u001B[38;5;124m'\u001B[39m, \u001B[38;5;124m'\u001B[39m\u001B[38;5;124mCompany\u001B[39m\u001B[38;5;124m'\u001B[39m, \u001B[38;5;124m'\u001B[39m\u001B[38;5;124mLocation\u001B[39m\u001B[38;5;124m'\u001B[39m, \u001B[38;5;124m'\u001B[39m\u001B[38;5;124mSalary\u001B[39m\u001B[38;5;124m'\u001B[39m, \u001B[38;5;124m'\u001B[39m\u001B[38;5;124mPostDate\u001B[39m\u001B[38;5;124m'\u001B[39m, \u001B[38;5;124m'\u001B[39m\u001B[38;5;124mExtractDate\u001B[39m\u001B[38;5;124m'\u001B[39m,\u001B[38;5;124m'\u001B[39m\u001B[38;5;124mSummary\u001B[39m\u001B[38;5;124m'\u001B[39m,\u001B[38;5;124m'\u001B[39m\u001B[38;5;124mJobUrl\u001B[39m\u001B[38;5;124m'\u001B[39m])\n\u001B[1;32m     16\u001B[0m         writer\u001B[38;5;241m.\u001B[39mwriterows(records)\n\u001B[0;32m---> 18\u001B[0m main(\u001B[38;5;124m'\u001B[39m\u001B[38;5;124mdata+scientist\u001B[39m\u001B[38;5;124m'\u001B[39m, \u001B[38;5;124m'\u001B[39m\u001B[38;5;124m10860\u001B[39m\u001B[38;5;124m'\u001B[39m)\n",
      "Cell \u001B[0;32mIn[5], line 5\u001B[0m, in \u001B[0;36mmain\u001B[0;34m(position, location)\u001B[0m\n\u001B[1;32m      2\u001B[0m records \u001B[38;5;241m=\u001B[39m []\n\u001B[1;32m      3\u001B[0m url \u001B[38;5;241m=\u001B[39m get_url(position, location)\n\u001B[0;32m----> 5\u001B[0m response \u001B[38;5;241m=\u001B[39m requests\u001B[38;5;241m.\u001B[39mget(url)\n\u001B[1;32m      6\u001B[0m soup \u001B[38;5;241m=\u001B[39m BeautifulSoup(response\u001B[38;5;241m.\u001B[39mtext, \u001B[38;5;124m'\u001B[39m\u001B[38;5;124mhtml.parser\u001B[39m\u001B[38;5;124m'\u001B[39m)\n\u001B[1;32m      7\u001B[0m cards \u001B[38;5;241m=\u001B[39m soup\u001B[38;5;241m.\u001B[39mfind_all(\u001B[38;5;124m'\u001B[39m\u001B[38;5;124mdiv\u001B[39m\u001B[38;5;124m'\u001B[39m, \u001B[38;5;124m'\u001B[39m\u001B[38;5;124mmodule job-result\u001B[39m\u001B[38;5;124m'\u001B[39m)\n",
      "\u001B[0;31mNameError\u001B[0m: name 'requests' is not defined"
     ]
    }
   ],
   "execution_count": 5
  },
  {
   "metadata": {
    "ExecuteTime": {
     "end_time": "2024-07-24T10:58:29.628892Z",
     "start_time": "2024-07-24T10:58:29.623236Z"
    }
   },
   "cell_type": "code",
   "source": "",
   "id": "447cfdb1b79a90f1",
   "outputs": [],
   "execution_count": 21
  },
  {
   "metadata": {},
   "cell_type": "code",
   "outputs": [],
   "execution_count": null,
   "source": "",
   "id": "9bbc589474b36879"
  }
 ],
 "metadata": {
  "kernelspec": {
   "display_name": "Python 3",
   "language": "python",
   "name": "python3"
  },
  "language_info": {
   "codemirror_mode": {
    "name": "ipython",
    "version": 2
   },
   "file_extension": ".py",
   "mimetype": "text/x-python",
   "name": "python",
   "nbconvert_exporter": "python",
   "pygments_lexer": "ipython2",
   "version": "2.7.6"
  }
 },
 "nbformat": 4,
 "nbformat_minor": 5
}
